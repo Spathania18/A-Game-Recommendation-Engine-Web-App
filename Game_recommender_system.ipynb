{
 "cells": [
  {
   "cell_type": "markdown",
   "id": "c769a027",
   "metadata": {},
   "source": [
    "Data Pre-Processing"
   ]
  },
  {
   "cell_type": "code",
   "execution_count": null,
   "id": "4b640f27",
   "metadata": {},
   "outputs": [],
   "source": [
    "# Importing Packages\n",
    "\n",
    "import numpy as np\n",
    "import pandas as pd\n",
    "import matplotlib.pyplot as plt\n",
    "import os"
   ]
  },
  {
   "cell_type": "code",
   "execution_count": 129,
   "id": "0ea4e6a5",
   "metadata": {},
   "outputs": [],
   "source": [
    "games = pd.read_csv(\"games_data.csv\")"
   ]
  },
  {
   "cell_type": "code",
   "execution_count": 130,
   "id": "90208304",
   "metadata": {},
   "outputs": [
    {
     "data": {
      "text/html": [
       "<div>\n",
       "<style scoped>\n",
       "    .dataframe tbody tr th:only-of-type {\n",
       "        vertical-align: middle;\n",
       "    }\n",
       "\n",
       "    .dataframe tbody tr th {\n",
       "        vertical-align: top;\n",
       "    }\n",
       "\n",
       "    .dataframe thead th {\n",
       "        text-align: right;\n",
       "    }\n",
       "</style>\n",
       "<table border=\"1\" class=\"dataframe\">\n",
       "  <thead>\n",
       "    <tr style=\"text-align: right;\">\n",
       "      <th></th>\n",
       "      <th>Title</th>\n",
       "      <th>Platform</th>\n",
       "      <th>Genres</th>\n",
       "      <th>Release_date</th>\n",
       "      <th>Publisher Name</th>\n",
       "      <th>Age Rating</th>\n",
       "      <th>Metascore</th>\n",
       "      <th>Description</th>\n",
       "    </tr>\n",
       "  </thead>\n",
       "  <tbody>\n",
       "    <tr>\n",
       "      <th>0</th>\n",
       "      <td>Grand Theft Auto V</td>\n",
       "      <td>PlayStation 5, Xbox Series S/X, PC, PlayStatio...</td>\n",
       "      <td>Action, Adventure</td>\n",
       "      <td>Sep 17, 2013</td>\n",
       "      <td>Rockstar Games</td>\n",
       "      <td>17+ Mature</td>\n",
       "      <td>92.0</td>\n",
       "      <td>Rockstar Games went bigger, since their previo...</td>\n",
       "    </tr>\n",
       "    <tr>\n",
       "      <th>1</th>\n",
       "      <td>Tomb Raider (2013)</td>\n",
       "      <td>PlayStation 4, macOS, PC, Xbox One, Xbox 360, ...</td>\n",
       "      <td>Action, Adventure</td>\n",
       "      <td>Mar 5, 2013</td>\n",
       "      <td>Square Enix</td>\n",
       "      <td>17+ Mature</td>\n",
       "      <td>86.0</td>\n",
       "      <td>A cinematic revival of the series in its actio...</td>\n",
       "    </tr>\n",
       "  </tbody>\n",
       "</table>\n",
       "</div>"
      ],
      "text/plain": [
       "                Title                                           Platform  \\\n",
       "0  Grand Theft Auto V  PlayStation 5, Xbox Series S/X, PC, PlayStatio...   \n",
       "1  Tomb Raider (2013)  PlayStation 4, macOS, PC, Xbox One, Xbox 360, ...   \n",
       "\n",
       "              Genres  Release_date  Publisher Name  Age Rating  Metascore  \\\n",
       "0  Action, Adventure  Sep 17, 2013  Rockstar Games  17+ Mature       92.0   \n",
       "1  Action, Adventure   Mar 5, 2013     Square Enix  17+ Mature       86.0   \n",
       "\n",
       "                                         Description  \n",
       "0  Rockstar Games went bigger, since their previo...  \n",
       "1  A cinematic revival of the series in its actio...  "
      ]
     },
     "execution_count": 130,
     "metadata": {},
     "output_type": "execute_result"
    }
   ],
   "source": [
    "games.head(2)"
   ]
  },
  {
   "cell_type": "code",
   "execution_count": 131,
   "id": "52d43bdc",
   "metadata": {},
   "outputs": [
    {
     "data": {
      "text/plain": [
       "Title               5\n",
       "Platform            5\n",
       "Genres             22\n",
       "Release_date       23\n",
       "Publisher Name     51\n",
       "Age Rating          5\n",
       "Metascore         469\n",
       "Description       703\n",
       "dtype: int64"
      ]
     },
     "execution_count": 131,
     "metadata": {},
     "output_type": "execute_result"
    }
   ],
   "source": [
    "# Taking care of null values\n",
    "games.isnull().sum()"
   ]
  },
  {
   "cell_type": "code",
   "execution_count": 132,
   "id": "e5667058",
   "metadata": {},
   "outputs": [],
   "source": [
    "games.dropna(inplace = True)"
   ]
  },
  {
   "cell_type": "code",
   "execution_count": 133,
   "id": "0a964977",
   "metadata": {},
   "outputs": [
    {
     "data": {
      "text/plain": [
       "Title             0\n",
       "Platform          0\n",
       "Genres            0\n",
       "Release_date      0\n",
       "Publisher Name    0\n",
       "Age Rating        0\n",
       "Metascore         0\n",
       "Description       0\n",
       "dtype: int64"
      ]
     },
     "execution_count": 133,
     "metadata": {},
     "output_type": "execute_result"
    }
   ],
   "source": [
    "games.isnull().sum()"
   ]
  },
  {
   "cell_type": "code",
   "execution_count": null,
   "id": "11e3b315",
   "metadata": {},
   "outputs": [],
   "source": [
    "# Converting str types to list type to merge them"
   ]
  },
  {
   "cell_type": "code",
   "execution_count": 134,
   "id": "db5e325c",
   "metadata": {},
   "outputs": [],
   "source": [
    "games['Platform'] = games['Platform'].apply(lambda x:str(x).split())"
   ]
  },
  {
   "cell_type": "code",
   "execution_count": 135,
   "id": "dd0e0239",
   "metadata": {},
   "outputs": [],
   "source": [
    "games['Genres'] = games['Genres'].apply(lambda x:str(x).split())"
   ]
  },
  {
   "cell_type": "code",
   "execution_count": 136,
   "id": "7a998dd5",
   "metadata": {},
   "outputs": [],
   "source": [
    "games['Release_date'] = games['Release_date'].apply(lambda x:str(x).split())"
   ]
  },
  {
   "cell_type": "code",
   "execution_count": 137,
   "id": "d951ecd8",
   "metadata": {},
   "outputs": [],
   "source": [
    "games['Publisher Name'] = games['Publisher Name'].apply(lambda x:str(x).split())"
   ]
  },
  {
   "cell_type": "code",
   "execution_count": 138,
   "id": "2009dd67",
   "metadata": {},
   "outputs": [],
   "source": [
    "games['Age Rating'] = games['Age Rating'].apply(lambda x:str(x).split())"
   ]
  },
  {
   "cell_type": "code",
   "execution_count": 139,
   "id": "e816066a",
   "metadata": {},
   "outputs": [],
   "source": [
    "games['Metascore'] = games['Metascore'].apply(lambda x:str(x).split())"
   ]
  },
  {
   "cell_type": "code",
   "execution_count": 140,
   "id": "6f73ed4c",
   "metadata": {},
   "outputs": [],
   "source": [
    "games['Description'] = games['Description'].apply(lambda x:str(x).split())"
   ]
  },
  {
   "cell_type": "code",
   "execution_count": 141,
   "id": "0c37c04a",
   "metadata": {},
   "outputs": [
    {
     "data": {
      "text/html": [
       "<div>\n",
       "<style scoped>\n",
       "    .dataframe tbody tr th:only-of-type {\n",
       "        vertical-align: middle;\n",
       "    }\n",
       "\n",
       "    .dataframe tbody tr th {\n",
       "        vertical-align: top;\n",
       "    }\n",
       "\n",
       "    .dataframe thead th {\n",
       "        text-align: right;\n",
       "    }\n",
       "</style>\n",
       "<table border=\"1\" class=\"dataframe\">\n",
       "  <thead>\n",
       "    <tr style=\"text-align: right;\">\n",
       "      <th></th>\n",
       "      <th>Title</th>\n",
       "      <th>Platform</th>\n",
       "      <th>Genres</th>\n",
       "      <th>Release_date</th>\n",
       "      <th>Publisher Name</th>\n",
       "      <th>Age Rating</th>\n",
       "      <th>Metascore</th>\n",
       "      <th>Description</th>\n",
       "    </tr>\n",
       "  </thead>\n",
       "  <tbody>\n",
       "    <tr>\n",
       "      <th>0</th>\n",
       "      <td>Grand Theft Auto V</td>\n",
       "      <td>[PlayStation, 5,, Xbox, Series, S/X,, PC,, Pla...</td>\n",
       "      <td>[Action,, Adventure]</td>\n",
       "      <td>[Sep, 17,, 2013]</td>\n",
       "      <td>[Rockstar, Games]</td>\n",
       "      <td>[17+, Mature]</td>\n",
       "      <td>[92.0]</td>\n",
       "      <td>[Rockstar, Games, went, bigger,, since, their,...</td>\n",
       "    </tr>\n",
       "    <tr>\n",
       "      <th>1</th>\n",
       "      <td>Tomb Raider (2013)</td>\n",
       "      <td>[PlayStation, 4,, macOS,, PC,, Xbox, One,, Xbo...</td>\n",
       "      <td>[Action,, Adventure]</td>\n",
       "      <td>[Mar, 5,, 2013]</td>\n",
       "      <td>[Square, Enix]</td>\n",
       "      <td>[17+, Mature]</td>\n",
       "      <td>[86.0]</td>\n",
       "      <td>[A, cinematic, revival, of, the, series, in, i...</td>\n",
       "    </tr>\n",
       "    <tr>\n",
       "      <th>2</th>\n",
       "      <td>BioShock Infinite</td>\n",
       "      <td>[PlayStation, 4,, Xbox, 360,, Nintendo, Switch...</td>\n",
       "      <td>[Action,, Shooter]</td>\n",
       "      <td>[Mar, 26,, 2013]</td>\n",
       "      <td>[2K, Games]</td>\n",
       "      <td>[17+, Mature]</td>\n",
       "      <td>[94.0]</td>\n",
       "      <td>[The, third, game, in, the, series,, Bioshock,...</td>\n",
       "    </tr>\n",
       "    <tr>\n",
       "      <th>3</th>\n",
       "      <td>Half-Life 2</td>\n",
       "      <td>[PC,, macOS,, Xbox, 360,, Linux,, Xbox,, Android]</td>\n",
       "      <td>[Action,, Shooter]</td>\n",
       "      <td>[Nov, 16,, 2004]</td>\n",
       "      <td>[Valve]</td>\n",
       "      <td>[17+, Mature]</td>\n",
       "      <td>[96.0]</td>\n",
       "      <td>[Gordon, Freeman, became, the, most, popular, ...</td>\n",
       "    </tr>\n",
       "    <tr>\n",
       "      <th>4</th>\n",
       "      <td>God of War (2018)</td>\n",
       "      <td>[PC,, PlayStation, 4]</td>\n",
       "      <td>[Action,, Adventure,, RPG]</td>\n",
       "      <td>[Apr, 20,, 2018]</td>\n",
       "      <td>[Sony, Interactive, Entertainment]</td>\n",
       "      <td>[17+, Mature]</td>\n",
       "      <td>[94.0]</td>\n",
       "      <td>[It, is, a, new, beginning, for, Kratos., Livi...</td>\n",
       "    </tr>\n",
       "    <tr>\n",
       "      <th>...</th>\n",
       "      <td>...</td>\n",
       "      <td>...</td>\n",
       "      <td>...</td>\n",
       "      <td>...</td>\n",
       "      <td>...</td>\n",
       "      <td>...</td>\n",
       "      <td>...</td>\n",
       "      <td>...</td>\n",
       "    </tr>\n",
       "    <tr>\n",
       "      <th>3472</th>\n",
       "      <td>Nine Parchments</td>\n",
       "      <td>[Nintendo, Switch,, Xbox, One,, PC,, PlayStati...</td>\n",
       "      <td>[Action,, RPG,, Arcade]</td>\n",
       "      <td>[Dec, 5,, 2017]</td>\n",
       "      <td>[Frozenbyte]</td>\n",
       "      <td>[Not, rated]</td>\n",
       "      <td>[76.0]</td>\n",
       "      <td>[Nine, Parchments, is, a, co-operative, blast'...</td>\n",
       "    </tr>\n",
       "    <tr>\n",
       "      <th>3473</th>\n",
       "      <td>LEGO Pirates of the Caribbean: The Video Game</td>\n",
       "      <td>[PSP,, Wii,, Nintendo, DS,, macOS,, PC,, Ninte...</td>\n",
       "      <td>[Action,, Adventure]</td>\n",
       "      <td>[May, 10,, 2011]</td>\n",
       "      <td>[Disney, Interactive]</td>\n",
       "      <td>[10+, Everyone, 10+]</td>\n",
       "      <td>[82.0]</td>\n",
       "      <td>[LEGO®, Pirates, of, the, Caribbean:, The, Vid...</td>\n",
       "    </tr>\n",
       "    <tr>\n",
       "      <th>3474</th>\n",
       "      <td>Yakuza 3</td>\n",
       "      <td>[PlayStation, 4,, PlayStation, 3]</td>\n",
       "      <td>[Action]</td>\n",
       "      <td>[Feb, 26,, 2009]</td>\n",
       "      <td>[SEGA]</td>\n",
       "      <td>[17+, Mature]</td>\n",
       "      <td>[79.0]</td>\n",
       "      <td>[Yakuza, 3, is, the, next, cinematic, chapter,...</td>\n",
       "    </tr>\n",
       "    <tr>\n",
       "      <th>3476</th>\n",
       "      <td>Freedom Force vs. the Third Reich</td>\n",
       "      <td>[PC]</td>\n",
       "      <td>[Action,, RPG,, Strategy]</td>\n",
       "      <td>[May, 29,, 2005]</td>\n",
       "      <td>[2K, Games]</td>\n",
       "      <td>[13+, Teen]</td>\n",
       "      <td>[86.0]</td>\n",
       "      <td>[Freedom, is, threatened, yet, again, and, onl...</td>\n",
       "    </tr>\n",
       "    <tr>\n",
       "      <th>3477</th>\n",
       "      <td>Army of Two: The 40th Day</td>\n",
       "      <td>[PlayStation, 3,, Xbox, 360]</td>\n",
       "      <td>[Action,, Shooter,, Adventure]</td>\n",
       "      <td>[Jan, 8,, 2010]</td>\n",
       "      <td>[Electronic, Arts]</td>\n",
       "      <td>[17+, Mature]</td>\n",
       "      <td>[84.0]</td>\n",
       "      <td>[A, carefully, orchestrated, series, of, myste...</td>\n",
       "    </tr>\n",
       "  </tbody>\n",
       "</table>\n",
       "<p>2448 rows × 8 columns</p>\n",
       "</div>"
      ],
      "text/plain": [
       "                                              Title  \\\n",
       "0                                Grand Theft Auto V   \n",
       "1                                Tomb Raider (2013)   \n",
       "2                                 BioShock Infinite   \n",
       "3                                       Half-Life 2   \n",
       "4                                 God of War (2018)   \n",
       "...                                             ...   \n",
       "3472                                Nine Parchments   \n",
       "3473  LEGO Pirates of the Caribbean: The Video Game   \n",
       "3474                                       Yakuza 3   \n",
       "3476              Freedom Force vs. the Third Reich   \n",
       "3477                      Army of Two: The 40th Day   \n",
       "\n",
       "                                               Platform  \\\n",
       "0     [PlayStation, 5,, Xbox, Series, S/X,, PC,, Pla...   \n",
       "1     [PlayStation, 4,, macOS,, PC,, Xbox, One,, Xbo...   \n",
       "2     [PlayStation, 4,, Xbox, 360,, Nintendo, Switch...   \n",
       "3     [PC,, macOS,, Xbox, 360,, Linux,, Xbox,, Android]   \n",
       "4                                 [PC,, PlayStation, 4]   \n",
       "...                                                 ...   \n",
       "3472  [Nintendo, Switch,, Xbox, One,, PC,, PlayStati...   \n",
       "3473  [PSP,, Wii,, Nintendo, DS,, macOS,, PC,, Ninte...   \n",
       "3474                  [PlayStation, 4,, PlayStation, 3]   \n",
       "3476                                               [PC]   \n",
       "3477                       [PlayStation, 3,, Xbox, 360]   \n",
       "\n",
       "                              Genres      Release_date  \\\n",
       "0               [Action,, Adventure]  [Sep, 17,, 2013]   \n",
       "1               [Action,, Adventure]   [Mar, 5,, 2013]   \n",
       "2                 [Action,, Shooter]  [Mar, 26,, 2013]   \n",
       "3                 [Action,, Shooter]  [Nov, 16,, 2004]   \n",
       "4         [Action,, Adventure,, RPG]  [Apr, 20,, 2018]   \n",
       "...                              ...               ...   \n",
       "3472         [Action,, RPG,, Arcade]   [Dec, 5,, 2017]   \n",
       "3473            [Action,, Adventure]  [May, 10,, 2011]   \n",
       "3474                        [Action]  [Feb, 26,, 2009]   \n",
       "3476       [Action,, RPG,, Strategy]  [May, 29,, 2005]   \n",
       "3477  [Action,, Shooter,, Adventure]   [Jan, 8,, 2010]   \n",
       "\n",
       "                          Publisher Name            Age Rating Metascore  \\\n",
       "0                      [Rockstar, Games]         [17+, Mature]    [92.0]   \n",
       "1                         [Square, Enix]         [17+, Mature]    [86.0]   \n",
       "2                            [2K, Games]         [17+, Mature]    [94.0]   \n",
       "3                                [Valve]         [17+, Mature]    [96.0]   \n",
       "4     [Sony, Interactive, Entertainment]         [17+, Mature]    [94.0]   \n",
       "...                                  ...                   ...       ...   \n",
       "3472                        [Frozenbyte]          [Not, rated]    [76.0]   \n",
       "3473               [Disney, Interactive]  [10+, Everyone, 10+]    [82.0]   \n",
       "3474                              [SEGA]         [17+, Mature]    [79.0]   \n",
       "3476                         [2K, Games]           [13+, Teen]    [86.0]   \n",
       "3477                  [Electronic, Arts]         [17+, Mature]    [84.0]   \n",
       "\n",
       "                                            Description  \n",
       "0     [Rockstar, Games, went, bigger,, since, their,...  \n",
       "1     [A, cinematic, revival, of, the, series, in, i...  \n",
       "2     [The, third, game, in, the, series,, Bioshock,...  \n",
       "3     [Gordon, Freeman, became, the, most, popular, ...  \n",
       "4     [It, is, a, new, beginning, for, Kratos., Livi...  \n",
       "...                                                 ...  \n",
       "3472  [Nine, Parchments, is, a, co-operative, blast'...  \n",
       "3473  [LEGO®, Pirates, of, the, Caribbean:, The, Vid...  \n",
       "3474  [Yakuza, 3, is, the, next, cinematic, chapter,...  \n",
       "3476  [Freedom, is, threatened, yet, again, and, onl...  \n",
       "3477  [A, carefully, orchestrated, series, of, myste...  \n",
       "\n",
       "[2448 rows x 8 columns]"
      ]
     },
     "execution_count": 141,
     "metadata": {},
     "output_type": "execute_result"
    }
   ],
   "source": [
    "games"
   ]
  },
  {
   "cell_type": "code",
   "execution_count": 142,
   "id": "46668924",
   "metadata": {},
   "outputs": [],
   "source": [
    "# Creating Tags by merging important columns\n",
    "\n",
    "games['tags'] = games['Platform'] + games['Genres'] + games['Release_date'] + games['Publisher Name'] + games['Age Rating'] + games['Metascore'] + games['Description'] "
   ]
  },
  {
   "cell_type": "code",
   "execution_count": 143,
   "id": "d2ed4d34",
   "metadata": {},
   "outputs": [],
   "source": [
    "# Creating new database to use \n",
    "new_games = games[['Title','tags']]"
   ]
  },
  {
   "cell_type": "code",
   "execution_count": 144,
   "id": "2c280fbe",
   "metadata": {},
   "outputs": [
    {
     "name": "stderr",
     "output_type": "stream",
     "text": [
      "C:\\Users\\spath\\AppData\\Local\\Temp\\ipykernel_7748\\274892681.py:1: SettingWithCopyWarning: \n",
      "A value is trying to be set on a copy of a slice from a DataFrame.\n",
      "Try using .loc[row_indexer,col_indexer] = value instead\n",
      "\n",
      "See the caveats in the documentation: https://pandas.pydata.org/pandas-docs/stable/user_guide/indexing.html#returning-a-view-versus-a-copy\n",
      "  new_games['tags'] = new_games['tags'].apply(lambda x: \" \".join(x))\n",
      "C:\\Users\\spath\\AppData\\Local\\Temp\\ipykernel_7748\\274892681.py:2: SettingWithCopyWarning: \n",
      "A value is trying to be set on a copy of a slice from a DataFrame.\n",
      "Try using .loc[row_indexer,col_indexer] = value instead\n",
      "\n",
      "See the caveats in the documentation: https://pandas.pydata.org/pandas-docs/stable/user_guide/indexing.html#returning-a-view-versus-a-copy\n",
      "  new_games['tags'] = new_games['tags'].apply(lambda x: x.lower())\n"
     ]
    },
    {
     "data": {
      "text/html": [
       "<div>\n",
       "<style scoped>\n",
       "    .dataframe tbody tr th:only-of-type {\n",
       "        vertical-align: middle;\n",
       "    }\n",
       "\n",
       "    .dataframe tbody tr th {\n",
       "        vertical-align: top;\n",
       "    }\n",
       "\n",
       "    .dataframe thead th {\n",
       "        text-align: right;\n",
       "    }\n",
       "</style>\n",
       "<table border=\"1\" class=\"dataframe\">\n",
       "  <thead>\n",
       "    <tr style=\"text-align: right;\">\n",
       "      <th></th>\n",
       "      <th>Title</th>\n",
       "      <th>tags</th>\n",
       "    </tr>\n",
       "  </thead>\n",
       "  <tbody>\n",
       "    <tr>\n",
       "      <th>0</th>\n",
       "      <td>Grand Theft Auto V</td>\n",
       "      <td>playstation 5, xbox series s/x, pc, playstatio...</td>\n",
       "    </tr>\n",
       "    <tr>\n",
       "      <th>1</th>\n",
       "      <td>Tomb Raider (2013)</td>\n",
       "      <td>playstation 4, macos, pc, xbox one, xbox 360, ...</td>\n",
       "    </tr>\n",
       "  </tbody>\n",
       "</table>\n",
       "</div>"
      ],
      "text/plain": [
       "                Title                                               tags\n",
       "0  Grand Theft Auto V  playstation 5, xbox series s/x, pc, playstatio...\n",
       "1  Tomb Raider (2013)  playstation 4, macos, pc, xbox one, xbox 360, ..."
      ]
     },
     "execution_count": 144,
     "metadata": {},
     "output_type": "execute_result"
    }
   ],
   "source": [
    "# Combining list values of tags column to strings\n",
    "\n",
    "new_games['tags'] = new_games['tags'].apply(lambda x: \" \".join(x))\n",
    "new_games['tags'] = new_games['tags'].apply(lambda x: x.lower())\n",
    "new_games.head(2)"
   ]
  },
  {
   "cell_type": "code",
   "execution_count": 145,
   "id": "6a9f3af5",
   "metadata": {},
   "outputs": [],
   "source": [
    "# Applying Porter Stemmer\n",
    "\n",
    "import nltk\n",
    "from nltk import PorterStemmer\n",
    "ps = PorterStemmer()\n",
    "\n",
    "def stems(text):\n",
    "    l = []\n",
    "    for i in text.split():\n",
    "        l.append(ps.stem(i))\n",
    "    return \" \".join(l)"
   ]
  },
  {
   "cell_type": "code",
   "execution_count": 146,
   "id": "fc5f999b",
   "metadata": {},
   "outputs": [
    {
     "name": "stderr",
     "output_type": "stream",
     "text": [
      "C:\\Users\\spath\\AppData\\Local\\Temp\\ipykernel_7748\\3964948805.py:1: SettingWithCopyWarning: \n",
      "A value is trying to be set on a copy of a slice from a DataFrame.\n",
      "Try using .loc[row_indexer,col_indexer] = value instead\n",
      "\n",
      "See the caveats in the documentation: https://pandas.pydata.org/pandas-docs/stable/user_guide/indexing.html#returning-a-view-versus-a-copy\n",
      "  new_games['tags'] = new_games['tags'].apply(stems)\n"
     ]
    }
   ],
   "source": [
    "new_games['tags'] = new_games['tags'].apply(stems)"
   ]
  },
  {
   "cell_type": "code",
   "execution_count": 147,
   "id": "9d1a1107",
   "metadata": {},
   "outputs": [
    {
     "data": {
      "text/html": [
       "<div>\n",
       "<style scoped>\n",
       "    .dataframe tbody tr th:only-of-type {\n",
       "        vertical-align: middle;\n",
       "    }\n",
       "\n",
       "    .dataframe tbody tr th {\n",
       "        vertical-align: top;\n",
       "    }\n",
       "\n",
       "    .dataframe thead th {\n",
       "        text-align: right;\n",
       "    }\n",
       "</style>\n",
       "<table border=\"1\" class=\"dataframe\">\n",
       "  <thead>\n",
       "    <tr style=\"text-align: right;\">\n",
       "      <th></th>\n",
       "      <th>Title</th>\n",
       "      <th>tags</th>\n",
       "    </tr>\n",
       "  </thead>\n",
       "  <tbody>\n",
       "    <tr>\n",
       "      <th>0</th>\n",
       "      <td>Grand Theft Auto V</td>\n",
       "      <td>playstat 5, xbox seri s/x, pc, playstat 4, pla...</td>\n",
       "    </tr>\n",
       "    <tr>\n",
       "      <th>1</th>\n",
       "      <td>Tomb Raider (2013)</td>\n",
       "      <td>playstat 4, macos, pc, xbox one, xbox 360, pla...</td>\n",
       "    </tr>\n",
       "  </tbody>\n",
       "</table>\n",
       "</div>"
      ],
      "text/plain": [
       "                Title                                               tags\n",
       "0  Grand Theft Auto V  playstat 5, xbox seri s/x, pc, playstat 4, pla...\n",
       "1  Tomb Raider (2013)  playstat 4, macos, pc, xbox one, xbox 360, pla..."
      ]
     },
     "execution_count": 147,
     "metadata": {},
     "output_type": "execute_result"
    }
   ],
   "source": [
    "new_games.head(2)"
   ]
  },
  {
   "cell_type": "code",
   "execution_count": 148,
   "id": "fba6ecef",
   "metadata": {},
   "outputs": [],
   "source": [
    "# Vectorizing the tags and removing stop words\n",
    "\n",
    "from sklearn.feature_extraction.text import CountVectorizer\n",
    "cv = CountVectorizer(max_features = 5000, stop_words = 'english')"
   ]
  },
  {
   "cell_type": "code",
   "execution_count": 149,
   "id": "f2f3d591",
   "metadata": {},
   "outputs": [],
   "source": [
    "vector = cv.fit_transform(new_games['tags']).toarray()"
   ]
  },
  {
   "cell_type": "code",
   "execution_count": 151,
   "id": "c8413900",
   "metadata": {},
   "outputs": [
    {
     "data": {
      "text/plain": [
       "(2448, 5000)"
      ]
     },
     "execution_count": 151,
     "metadata": {},
     "output_type": "execute_result"
    }
   ],
   "source": [
    "vector.shape"
   ]
  },
  {
   "cell_type": "code",
   "execution_count": 152,
   "id": "746204bd",
   "metadata": {},
   "outputs": [],
   "source": [
    "# Mapping Similarities \n",
    "\n",
    "from sklearn.metrics.pairwise import cosine_similarity\n",
    "similarity = cosine_similarity(vector)"
   ]
  },
  {
   "cell_type": "code",
   "execution_count": 154,
   "id": "47cae449",
   "metadata": {},
   "outputs": [
    {
     "data": {
      "text/plain": [
       "(2448, 2448)"
      ]
     },
     "execution_count": 154,
     "metadata": {},
     "output_type": "execute_result"
    }
   ],
   "source": [
    "similarity.shape"
   ]
  },
  {
   "cell_type": "code",
   "execution_count": 167,
   "id": "444eaaa7",
   "metadata": {},
   "outputs": [],
   "source": [
    "# Creating the function to find recommendations based on tags\n",
    "\n",
    "def recommend(game):\n",
    "    index = new_games[new_games['Title'] == game].index[0]\n",
    "    distance = sorted(list(enumerate(similarity[index])), reverse = True, key = lambda x: x[1])\n",
    "    for i in distance[1:4]:\n",
    "        print(new_games.iloc[i[0]].Title)"
   ]
  },
  {
   "cell_type": "code",
   "execution_count": 168,
   "id": "e268cf0a",
   "metadata": {},
   "outputs": [
    {
     "name": "stdout",
     "output_type": "stream",
     "text": [
      "Magicka 2\n",
      "Quake III Arena\n",
      "Just Cause 4\n"
     ]
    }
   ],
   "source": [
    "# Testing recommend function\n",
    "recommend('Tomb Raider (2013)')"
   ]
  },
  {
   "cell_type": "code",
   "execution_count": 169,
   "id": "e4878475",
   "metadata": {},
   "outputs": [],
   "source": [
    "#importing pickle to dump essential objects to use in web application\n",
    "import pickle"
   ]
  },
  {
   "cell_type": "code",
   "execution_count": 172,
   "id": "02b8e90f",
   "metadata": {},
   "outputs": [],
   "source": [
    "pickle.dump(new_games, open('essentials/game_list.pkl', 'wb'))"
   ]
  },
  {
   "cell_type": "code",
   "execution_count": 173,
   "id": "f38df237",
   "metadata": {},
   "outputs": [],
   "source": [
    "pickle.dump(similarity, open('essentials/similarity.pkl', 'wb'))"
   ]
  }
 ],
 "metadata": {
  "kernelspec": {
   "display_name": "Python 3 (ipykernel)",
   "language": "python",
   "name": "python3"
  },
  "language_info": {
   "codemirror_mode": {
    "name": "ipython",
    "version": 3
   },
   "file_extension": ".py",
   "mimetype": "text/x-python",
   "name": "python",
   "nbconvert_exporter": "python",
   "pygments_lexer": "ipython3",
   "version": "3.9.12"
  }
 },
 "nbformat": 4,
 "nbformat_minor": 5
}
